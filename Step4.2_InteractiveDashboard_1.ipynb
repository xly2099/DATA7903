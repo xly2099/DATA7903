{
 "cells": [
  {
   "cell_type": "code",
   "execution_count": 1,
   "metadata": {},
   "outputs": [],
   "source": [
    "import pandas as pd\n",
    "import dash\n",
    "from dash import dcc\n",
    "from dash import html\n",
    "import plotly.graph_objs as go"
   ]
  },
  {
   "cell_type": "code",
   "execution_count": 2,
   "metadata": {},
   "outputs": [],
   "source": [
    "# Data Preprocessing\n",
    "\n",
    "df = pd.read_csv('dataset_space_API_past_launches_raw.csv')\n",
    "\n",
    "df = df.drop(['FlightNumber', 'Date', 'Longitude', 'Latitude'], axis=1)\n",
    "\n",
    "# Encode Outcome\n",
    "df = df.replace({'Outcome': {'True Ocean': 1, \n",
    "                             'True RTLS': 1,\n",
    "                             'True ASDS': 1,\n",
    "                             'False Ocean':0,\n",
    "                             'False RTLS':0,\n",
    "                             'False ASDS':0,\n",
    "                             'None ASDS':0,\n",
    "                             'None None':0,},\n",
    "                 'GridFins': {True: 1, False: 0},\n",
    "                 'Reused': {True: 1, False: 0},\n",
    "                 'Legs': {True: 1, False: 0}\n",
    "                })\n",
    "\n",
    "# Missing Values\n",
    "PayloadMass_mean = df['PayloadMass'].mean()\n",
    "PayloadMass_mean = round(PayloadMass_mean, 1)\n",
    "df['PayloadMass'] = df['PayloadMass'].fillna(PayloadMass_mean)\n",
    "df['LandingPad'] = df['LandingPad'].fillna('missing')\n",
    "df['Block'] = df['Block'].fillna('0')"
   ]
  },
  {
   "cell_type": "code",
   "execution_count": null,
   "metadata": {},
   "outputs": [
    {
     "name": "stdout",
     "output_type": "stream",
     "text": [
      "Dash is running on http://127.0.0.1:8050/\n",
      "\n",
      " * Serving Flask app \"__main__\" (lazy loading)\n",
      " * Environment: production\n",
      "\u001b[31m   WARNING: This is a development server. Do not use it in a production deployment.\u001b[0m\n",
      "\u001b[2m   Use a production WSGI server instead.\u001b[0m\n",
      " * Debug mode: off\n"
     ]
    },
    {
     "name": "stderr",
     "output_type": "stream",
     "text": [
      " * Running on http://127.0.0.1:8050/ (Press CTRL+C to quit)\n",
      "127.0.0.1 - - [01/Jun/2023 19:43:16] \"\u001b[37mGET / HTTP/1.1\u001b[0m\" 200 -\n",
      "127.0.0.1 - - [01/Jun/2023 19:43:17] \"\u001b[37mGET /_dash-layout HTTP/1.1\u001b[0m\" 200 -\n",
      "127.0.0.1 - - [01/Jun/2023 19:43:17] \"\u001b[37mGET /_dash-dependencies HTTP/1.1\u001b[0m\" 200 -\n",
      "127.0.0.1 - - [01/Jun/2023 19:43:17] \"\u001b[37mGET /_dash-component-suites/dash/dcc/async-dropdown.js HTTP/1.1\u001b[0m\" 200 -\n",
      "127.0.0.1 - - [01/Jun/2023 19:43:17] \"\u001b[37mGET /_dash-component-suites/dash/dcc/async-graph.js HTTP/1.1\u001b[0m\" 200 -\n",
      "127.0.0.1 - - [01/Jun/2023 19:43:17] \"\u001b[37mGET /_dash-component-suites/dash/dcc/async-plotlyjs.js HTTP/1.1\u001b[0m\" 200 -\n",
      "127.0.0.1 - - [01/Jun/2023 19:43:17] \"\u001b[37mPOST /_dash-update-component HTTP/1.1\u001b[0m\" 200 -\n",
      "127.0.0.1 - - [01/Jun/2023 19:43:19] \"\u001b[37mPOST /_dash-update-component HTTP/1.1\u001b[0m\" 200 -\n"
     ]
    }
   ],
   "source": [
    "data = df.groupby('LaunchSite')['Outcome']\n",
    "data = data.agg([('success', 'sum'), ('failure', lambda x: len(x) - sum(x))])\n",
    "data = data.to_dict(orient='index')\n",
    "\n",
    "app = dash.Dash(__name__)\n",
    "options = [{'label': key.upper(), 'value': key} for key in data.keys()]\n",
    "app.layout = html.Div(children=[\n",
    "    html.H1(children='Success Rate of LaunchSite'),\n",
    "    dcc.Dropdown(\n",
    "        id = 'dropdown',\n",
    "        options = options,\n",
    "        value = options[0]['value']\n",
    "    ),\n",
    "    dcc.Graph(id = 'graph')\n",
    "])\n",
    "\n",
    "@app.callback(\n",
    "    dash.dependencies.Output('graph', 'figure'),\n",
    "    [dash.dependencies.Input('dropdown', 'value')]\n",
    ")\n",
    "\n",
    "def update_graph(selected_value):\n",
    "    values = data[selected_value]\n",
    "    chart = go.Figure(\n",
    "        data = [go.Pie(labels = list(values.keys()), values = list(values.values())\n",
    "        )]\n",
    "    )\n",
    "    return chart\n",
    "\n",
    "if __name__ == '__main__':\n",
    "    app.run_server(debug = False)"
   ]
  }
 ],
 "metadata": {
  "kernelspec": {
   "display_name": "Python 3",
   "language": "python",
   "name": "python3"
  },
  "language_info": {
   "codemirror_mode": {
    "name": "ipython",
    "version": 3
   },
   "file_extension": ".py",
   "mimetype": "text/x-python",
   "name": "python",
   "nbconvert_exporter": "python",
   "pygments_lexer": "ipython3",
   "version": "3.8.5"
  }
 },
 "nbformat": 4,
 "nbformat_minor": 4
}
