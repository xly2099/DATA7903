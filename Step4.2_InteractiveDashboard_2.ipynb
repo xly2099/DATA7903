{
 "cells": [
  {
   "cell_type": "code",
   "execution_count": 1,
   "metadata": {},
   "outputs": [],
   "source": [
    "import pandas as pd\n",
    "import dash\n",
    "from dash import dcc\n",
    "from dash import html\n",
    "import plotly.graph_objs as go"
   ]
  },
  {
   "cell_type": "code",
   "execution_count": 2,
   "metadata": {},
   "outputs": [],
   "source": [
    "df = pd.read_csv('dataset_space_API_past_launches_raw.csv')\n",
    "\n",
    "df = df.drop(['FlightNumber', 'Date', 'Longitude', 'Latitude'], axis=1) # 删掉没用的\n",
    "\n",
    "# Encode Outcome\n",
    "df = df.replace({'Outcome': {'True Ocean': 1, \n",
    "                             'True RTLS': 1,\n",
    "                             'True ASDS': 1,\n",
    "                             'False Ocean':0,\n",
    "                             'False RTLS':0,\n",
    "                             'False ASDS':0,\n",
    "                             'None ASDS':0,\n",
    "                             'None None':0,},\n",
    "                 'GridFins': {True: 1, False: 0},\n",
    "                 'Reused': {True: 1, False: 0},\n",
    "                 'Legs': {True: 1, False: 0}\n",
    "                })\n",
    "\n",
    "# Missing Values\n",
    "PayloadMass_mean = df['PayloadMass'].mean()\n",
    "PayloadMass_mean = round(PayloadMass_mean, 1)\n",
    "df['PayloadMass'] = df['PayloadMass'].fillna(PayloadMass_mean)\n",
    "df['LandingPad'] = df['LandingPad'].fillna('missing')\n",
    "df['Block'] = df['Block'].fillna('0')"
   ]
  },
  {
   "cell_type": "code",
   "execution_count": null,
   "metadata": {},
   "outputs": [
    {
     "name": "stdout",
     "output_type": "stream",
     "text": [
      "Dash is running on http://127.0.0.1:8051/\n",
      "\n",
      " * Serving Flask app \"__main__\" (lazy loading)\n",
      " * Environment: production\n",
      "\u001b[31m   WARNING: This is a development server. Do not use it in a production deployment.\u001b[0m\n",
      "\u001b[2m   Use a production WSGI server instead.\u001b[0m\n",
      " * Debug mode: off\n"
     ]
    },
    {
     "name": "stderr",
     "output_type": "stream",
     "text": [
      " * Running on http://127.0.0.1:8051/ (Press CTRL+C to quit)\n"
     ]
    }
   ],
   "source": [
    "app = dash.Dash(__name__)\n",
    "\n",
    "app.layout = html.Div(children=[\n",
    "    html.H1(children='PayloadMass vs. Outcome'),\n",
    "\n",
    "    # set the slider to control the PayloadMass\n",
    "    dcc.RangeSlider(\n",
    "        id = 'range-slider',\n",
    "        min = df['PayloadMass'].min(),\n",
    "        max = df['PayloadMass'].max(),\n",
    "        step = 500,\n",
    "        marks = {i: str(i) for i in range(0, int(df['PayloadMass'].max()), 500)},\n",
    "        value = [df['PayloadMass'].min(), df['PayloadMass'].max()]\n",
    "    ),\n",
    "    dcc.Graph(id = 'graph')\n",
    "])\n",
    "\n",
    "@app.callback(\n",
    "    dash.dependencies.Output('graph', 'figure'),\n",
    "    [dash.dependencies.Input('range-slider', 'value')]\n",
    ")\n",
    "\n",
    "def update_graph(payload_range):\n",
    "    filtered_df = df[(df['PayloadMass'] >= payload_range[0]) & (df['PayloadMass'] <= payload_range[1])]\n",
    "\n",
    "    # create the scatter chart\n",
    "    scatter_plot = go.Figure(\n",
    "        data = [go.Scatter(\n",
    "            x = filtered_df['PayloadMass'],\n",
    "            y = filtered_df['Outcome'],\n",
    "            mode = 'markers'\n",
    "        )]\n",
    "    )\n",
    "    scatter_plot.update_layout(\n",
    "        title='Outcome of diff PayloadMass',\n",
    "        xaxis_title = 'PayloadMass',\n",
    "        yaxis_title = 'Outcome (1 is success, 0 is failure)',\n",
    "        height = 200\n",
    "    )\n",
    "    return scatter_plot\n",
    "\n",
    "if __name__ == '__main__':\n",
    "    app.run_server(port=8051, debug=False)"
   ]
  }
 ],
 "metadata": {
  "kernelspec": {
   "display_name": "Python 3",
   "language": "python",
   "name": "python3"
  },
  "language_info": {
   "codemirror_mode": {
    "name": "ipython",
    "version": 3
   },
   "file_extension": ".py",
   "mimetype": "text/x-python",
   "name": "python",
   "nbconvert_exporter": "python",
   "pygments_lexer": "ipython3",
   "version": "3.8.5"
  }
 },
 "nbformat": 4,
 "nbformat_minor": 4
}
